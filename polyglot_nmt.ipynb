{
 "cells": [
  {
   "cell_type": "code",
   "execution_count": 19,
   "id": "07332728",
   "metadata": {},
   "outputs": [],
   "source": [
    "import helper\n",
    "import numpy as np\n",
    "import pandas as pd\n",
    "import os, time\n",
    "import seaborn as sns\n",
    "import matplotlib.pyplot as plt\n",
    "from tqdm.auto import tqdm\n",
    "import torch\n",
    "from datasets import Dataset, load_dataset, load_metric\n",
    "from transformers import (\n",
    "    MarianTokenizer,\n",
    "    MBart50TokenizerFast,\n",
    "    AutoModelForSeq2SeqLM, \n",
    "    DataCollatorForSeq2Seq, \n",
    "    Seq2SeqTrainingArguments, \n",
    "    Seq2SeqTrainer,\n",
    "    utils\n",
    ")\n",
    "from datasets import concatenate_datasets\n",
    "\n"
   ]
  },
  {
   "cell_type": "markdown",
   "id": "a151f930",
   "metadata": {},
   "source": [
    "### Global Variables"
   ]
  },
  {
   "cell_type": "code",
   "execution_count": 2,
   "id": "6061ed81",
   "metadata": {},
   "outputs": [],
   "source": [
    "# Set the Global Parametre\n",
    "utils.logging.set_verbosity(50)\n",
    "os.environ[\"TOKENIZERS_PARALLELISM\"] = \"true\"\n",
    "config = helper.read_config()\n",
    "SEED = 99\n",
    "TOKEN = config['Data_Tokens']['token']\n",
    "device = torch.device('cuda' if torch.cuda.is_available() else 'cpu')\n",
    "asian_tokens = r\"data/tokens.txt\""
   ]
  },
  {
   "cell_type": "markdown",
   "id": "0963bfb1",
   "metadata": {},
   "source": [
    "### Tokenizer\n"
   ]
  },
  {
   "cell_type": "code",
   "execution_count": 4,
   "id": "57323d59",
   "metadata": {},
   "outputs": [],
   "source": [
    "def load_tokenizer(tk_model):\n",
    "    utils.logging.set_verbosity(50)\n",
    "    mr_tknzr = MarianTokenizer.from_pretrained(tk_model)\n",
    "    with open(asian_tokens) as fp:\n",
    "        tokens = fp.read().split(\"\\n\")\n",
    "    mr_tknzr.add_tokens(tokens, special_tokens=True)\n",
    "    return mr_tknzr"
   ]
  },
  {
   "cell_type": "code",
   "execution_count": 5,
   "id": "eb158d98",
   "metadata": {},
   "outputs": [
    {
     "name": "stdout",
     "output_type": "stream",
     "text": [
      "Helsinki-NLP/opus-mt-en-zh\n"
     ]
    }
   ],
   "source": [
    "# Loading pre-trained tokenizer.\n",
    "utils.logging.set_verbosity(50)\n",
    "xxlang = 'zh'\n",
    "pretrained_models = {\n",
    "        \"zh\":\"Helsinki-NLP/opus-mt-en-zh\",\n",
    "        \"ja\":\"Helsinki-NLP/opus-tatoeba-en-ja\"\n",
    "    }\n",
    "\n",
    "print(pretrained_models[xxlang])\n",
    "model_pretrained = pretrained_models[xxlang]\n",
    "pretrained_tknzr = load_tokenizer(pretrained_models[xxlang])"
   ]
  },
  {
   "cell_type": "code",
   "execution_count": 6,
   "id": "0530bfa4",
   "metadata": {},
   "outputs": [],
   "source": [
    "# Pre Processing\n",
    "ip_lenght = 128\n",
    "op_lenght = 128"
   ]
  },
  {
   "cell_type": "markdown",
   "id": "fb12b4f9",
   "metadata": {},
   "source": [
    "### Data Pre-Processing Methods"
   ]
  },
  {
   "cell_type": "code",
   "execution_count": 7,
   "id": "5cc91c39",
   "metadata": {},
   "outputs": [],
   "source": [
    "def data_preprocess(examples):\n",
    "    utils.logging.set_verbosity(50)\n",
    "    ip_sent = [s for s in examples[\"Sent_en\"]]\n",
    "    target_sent = [s for s in examples[\"Sent_yy\"]]\n",
    "    \n",
    "    model_ip = pretrained_tknzr(ip_sent, max_length=128, truncation=True, padding=\"max_length\")\n",
    "    \n",
    "    labels = pretrained_tknzr(target_sent, max_length=128, truncation=True, padding=\"max_length\")\n",
    "\n",
    "    if len(examples['Sent_en']) > 1 and (len(model_ip['input_ids'][0]) != len(model_ip[\"input_ids\"][1])):\n",
    "        print (\"Error!\", )\n",
    "\n",
    "    model_ip[\"labels\"] = labels[\"input_ids\"]\n",
    "    \n",
    "    return model_ip"
   ]
  },
  {
   "cell_type": "code",
   "execution_count": 8,
   "id": "8d01a42f",
   "metadata": {},
   "outputs": [],
   "source": [
    "metric = load_metric(\"sacrebleu\")\n",
    "    \n",
    "def compute_bleu(eval_preds, tokenizer=pretrained_tknzr , metric= metric):\n",
    "    utils.logging.set_verbosity(50)\n",
    "    preds, labels = eval_preds\n",
    "    if isinstance(preds, tuple):\n",
    "        preds = preds[0]\n",
    "        \n",
    "    decoded_preds = tokenizer.batch_decode(preds, skip_special_tokens=True)\n",
    "    labels = np.where(labels != -100, labels, tokenizer.pad_token_id)\n",
    "    decoded_labels = tokenizer.batch_decode(labels, skip_special_tokens=True)\n",
    "\n",
    "    decoded_preds = [pred.strip() for pred in decoded_preds]\n",
    "    decoded_labels = [[label.strip()] for label in decoded_labels] \n",
    "        \n",
    "    result = metric.compute(predictions=decoded_preds, references=decoded_labels)\n",
    "    result = {\"bleu\": round(result[\"score\"], 4)}\n",
    "    \n",
    "    prediction_lens = [np.count_nonzero(pred != tokenizer.pad_token_id) for pred in preds]\n",
    "    result[\"gen_len\"] = round(np.mean(prediction_lens), 4)\n",
    "\n",
    "    return result"
   ]
  },
  {
   "cell_type": "markdown",
   "id": "1988debc",
   "metadata": {},
   "source": [
    "### Load Data"
   ]
  },
  {
   "cell_type": "code",
   "execution_count": 9,
   "id": "72012bb7",
   "metadata": {},
   "outputs": [
    {
     "name": "stderr",
     "output_type": "stream",
     "text": [
      "Using custom data configuration data-1fc2412c1e98613e\n",
      "Reusing dataset parquet (/root/.cache/huggingface/datasets/parquet/data-1fc2412c1e98613e/0.0.0/1638526fd0e8d960534e2155dc54fdff8dce73851f21f031d2fb9c2cf757c121)\n"
     ]
    },
    {
     "data": {
      "application/vnd.jupyter.widget-view+json": {
       "model_id": "63621b84272a4587b9fcfab78b532326",
       "version_major": 2,
       "version_minor": 0
      },
      "text/plain": [
       "  0%|          | 0/3 [00:00<?, ?it/s]"
      ]
     },
     "metadata": {},
     "output_type": "display_data"
    }
   ],
   "source": [
    "data_files = {\"train\": \"train.parquet\", \"test\": \"test.parquet\", \"eval\": \"eval.parquet\"}\n",
    "dataset = load_dataset(\"/workspace/project/data\", data_files= data_files)"
   ]
  },
  {
   "cell_type": "code",
   "execution_count": 10,
   "id": "ff07c8c2",
   "metadata": {},
   "outputs": [],
   "source": [
    "batch_size = 64\n",
    "transformation_cols = ['input_ids', 'labels', 'attention_mask']\n",
    "yylang = 'ms'"
   ]
  },
  {
   "cell_type": "code",
   "execution_count": 11,
   "id": "a183b109",
   "metadata": {},
   "outputs": [
    {
     "data": {
      "text/plain": [
       "DatasetDict({\n",
       "    train: Dataset({\n",
       "        features: ['SID', 'Sent_en', 'Sent_yy', 'lang_yy'],\n",
       "        num_rows: 179199\n",
       "    })\n",
       "    test: Dataset({\n",
       "        features: ['SID', 'Sent_en', 'Sent_yy', 'lang_yy'],\n",
       "        num_rows: 10101\n",
       "    })\n",
       "    eval: Dataset({\n",
       "        features: ['SID', 'Sent_en', 'Sent_yy', 'lang_yy'],\n",
       "        num_rows: 9930\n",
       "    })\n",
       "})"
      ]
     },
     "execution_count": 11,
     "metadata": {},
     "output_type": "execute_result"
    }
   ],
   "source": [
    "dataset"
   ]
  },
  {
   "cell_type": "code",
   "execution_count": null,
   "id": "a4a8350f",
   "metadata": {},
   "outputs": [],
   "source": [
    "def filter_fn(example):\n",
    "    return example['lang_yy'] == yylang\n",
    "\n",
    "# data_subset = dataset.filter(lambda example: example['lang_yy'] == yylang)\n",
    "\n",
    "data_subset = dataset.filter(filter_fn)\n",
    "\n",
    "print(10)\n",
    "# data_subset = data_subset.map(data_preproces, batched=True, batch_size=batch_size*3, fn_kwargs={'pretrained_tknzr': pretrained_tknzr})\n",
    "data_subset1 = data_subset.map(data_preprocess, batched=True, batch_size=batch_size*3)\n",
    "print(11)\n",
    "data_subset1.set_format(type='torch', columns=transformation_cols)\n"
   ]
  },
  {
   "cell_type": "markdown",
   "id": "3e6fc179",
   "metadata": {},
   "source": [
    "### Fine Tuning the Pre-Trained Model on one target Language"
   ]
  },
  {
   "cell_type": "code",
   "execution_count": null,
   "id": "36440d51",
   "metadata": {},
   "outputs": [],
   "source": [
    "model = AutoModelForSeq2SeqLM.from_pretrained(model_pretrained).to(device)\n",
    "model.resize_token_embeddings(len(pretrained_tknzr))\n",
    "\n",
    "collator = DataCollatorForSeq2Seq(pretrained_tknzr, model=model)\n",
    "\n",
    "args = Seq2SeqTrainingArguments(\n",
    "    output_dir = f\"NMT_PFT_en-{xxlang}-to-{yylang}\",\n",
    "    seed = 99,\n",
    "    evaluation_strategy = \"epoch\",\n",
    "    log_level = 'warning',\n",
    "    disable_tqdm = False,\n",
    "    learning_rate=1e-4,\n",
    "    per_device_train_batch_size= 16,\n",
    "    per_device_eval_batch_size= 16,\n",
    "    weight_decay=0.01,\n",
    "    warmup_steps = 10,\n",
    "    num_train_epochs=15,\n",
    "    predict_with_generate=True,\n",
    "    remove_unused_columns = True,\n",
    "    fp16=True,\n",
    "    save_total_limit=3,\n",
    "    save_strategy = \"epoch\",\n",
    ")\n",
    "\n",
    "trainer = Seq2SeqTrainer(\n",
    "    model,\n",
    "    args,\n",
    "    train_dataset=data_subset[\"train\"],\n",
    "    eval_dataset=data_subset[\"eval\"],\n",
    "    tokenizer=pretrained_tknzr,\n",
    "    compute_metrics=compute_bleu,\n",
    "    data_collator=collator,\n",
    ")"
   ]
  },
  {
   "cell_type": "markdown",
   "id": "3c9cf861",
   "metadata": {},
   "source": [
    "### Train Model"
   ]
  },
  {
   "cell_type": "code",
   "execution_count": null,
   "id": "f4c7701f",
   "metadata": {},
   "outputs": [],
   "source": [
    "trainer.train()"
   ]
  },
  {
   "cell_type": "markdown",
   "id": "2442a81b",
   "metadata": {},
   "source": [
    "### Model Evaluation"
   ]
  },
  {
   "cell_type": "code",
   "execution_count": null,
   "id": "906c8d75",
   "metadata": {},
   "outputs": [],
   "source": [
    "trainer.predict(data_subset[\"test\"])"
   ]
  },
  {
   "cell_type": "markdown",
   "id": "59c4432c",
   "metadata": {},
   "source": [
    "# ----- Pure - Fine tunning -----"
   ]
  },
  {
   "cell_type": "markdown",
   "id": "541a9c16",
   "metadata": {},
   "source": [
    "### Data Prep"
   ]
  },
  {
   "cell_type": "code",
   "execution_count": 12,
   "id": "98aa9efb",
   "metadata": {},
   "outputs": [
    {
     "name": "stderr",
     "output_type": "stream",
     "text": [
      "Parameter 'function'=<function concat_data.<locals>.<lambda> at 0x7f801ed63310> of the transform datasets.arrow_dataset.Dataset.filter@2.0.1 couldn't be hashed properly, a random hash was used instead. Make sure your transforms and parameters are serializable with pickle or dill for the dataset fingerprinting and caching to work. If you reuse this transform, the caching mechanism will consider it to be different from the previous calls and recompute everything. This warning is only showed once. Subsequent hashing failures won't be showed.\n"
     ]
    },
    {
     "data": {
      "application/vnd.jupyter.widget-view+json": {
       "model_id": "22cf1ae0176c46caa7eda769348facc0",
       "version_major": 2,
       "version_minor": 0
      },
      "text/plain": [
       "  0%|          | 0/180 [00:00<?, ?ba/s]"
      ]
     },
     "metadata": {},
     "output_type": "display_data"
    },
    {
     "name": "stderr",
     "output_type": "stream",
     "text": [
      "Reusing dataset opus100 (/root/.cache/huggingface/datasets/opus100/en-zh/0.0.0/256f3196b69901fb0c79810ef468e2c4ed84fbd563719920b1ff1fdc750f7704)\n"
     ]
    },
    {
     "data": {
      "application/vnd.jupyter.widget-view+json": {
       "model_id": "9011ef1114f24eaf81313d9dc0e1a561",
       "version_major": 2,
       "version_minor": 0
      },
      "text/plain": [
       "  0%|          | 0/18000 [00:00<?, ?ex/s]"
      ]
     },
     "metadata": {},
     "output_type": "display_data"
    },
    {
     "name": "stdout",
     "output_type": "stream",
     "text": [
      "****Alt dataset used for mix training****\n",
      "Total Languages: 9\n",
      "Sentences: 161111\n",
      "****Opus dataset used for mix training****\n",
      "Languages: en-zh\n",
      "Sentences: Dataset({\n",
      "    features: ['Sent_en', 'Sent_yy'],\n",
      "    num_rows: 18000\n",
      "})\n",
      "****Final dataset for Mix Training****\n",
      "Languages: 10\n",
      "Sentences: 179111\n"
     ]
    }
   ],
   "source": [
    "yy_subset = ['fil', 'hi', 'id', 'ja', 'khm', 'ms', 'my', 'th', 'vi']\n",
    "xx_size = 18_000\n",
    "\n",
    "def rename_key(example):\n",
    "    example[\"Sent_en\"] = example[\"translation\"][\"en\"]\n",
    "    example[\"Sent_yy\"] = example[\"translation\"][xxlang]\n",
    "    return example\n",
    "    \n",
    "def concat_data(data, xxlang, xx_size = 20_000, mix_subset = [\"vi\"] ):\n",
    "    \n",
    "    select_lang = lambda x: x[\"lang_yy\"] in mix_subset\n",
    "    \n",
    "    data_subset = data[\"train\"].filter(select_lang).remove_columns([\"SID\", \"lang_yy\"])\n",
    "    \n",
    "    xx_data = load_dataset(\"opus100\", f'en-{xxlang}', split = \"train\")\n",
    "\n",
    "    xx_train = xx_data.select(range(xx_size)).map(rename_key).remove_columns(\"translation\")\n",
    "\n",
    "    data_concat = concatenate_datasets([data_subset, xx_train])\n",
    "    \n",
    "    pad = \"*\"*4\n",
    "    print(f\"{pad}Alt dataset used for mix training{pad}\\nTotal Languages: {len(mix_subset)}\\nSentences: {len(data_subset)}\")\n",
    "    print(f\"{pad}Opus dataset used for mix training{pad}\\nLanguages: en-zh\\nSentences: {xx_train}\")\n",
    "    print(f\"{pad}Final dataset for Mix Training{pad}\\nLanguages: {1+len(mix_subset)}\\nSentences: {len(data_concat)}\")\n",
    "    \n",
    "    return data_concat.shuffle(seed = SEED)\n",
    "\n",
    "data_mix = concat_data(data= dataset, xxlang = xxlang, xx_size = xx_size, mix_subset = ['fil', 'hi', 'id', 'ja', 'khm', 'ms', 'my', 'th', 'vi'])"
   ]
  },
  {
   "cell_type": "code",
   "execution_count": null,
   "id": "0b42253c",
   "metadata": {},
   "outputs": [],
   "source": [
    "data_mix"
   ]
  },
  {
   "cell_type": "markdown",
   "id": "659d4c60",
   "metadata": {},
   "source": [
    "### Pre- Process Data"
   ]
  },
  {
   "cell_type": "code",
   "execution_count": 13,
   "id": "2b830e13",
   "metadata": {},
   "outputs": [
    {
     "data": {
      "application/vnd.jupyter.widget-view+json": {
       "model_id": "aa2ebb5440654598a04c3d11aa93afe7",
       "version_major": 2,
       "version_minor": 0
      },
      "text/plain": [
       "  0%|          | 0/933 [00:00<?, ?ba/s]"
      ]
     },
     "metadata": {},
     "output_type": "display_data"
    },
    {
     "data": {
      "application/vnd.jupyter.widget-view+json": {
       "model_id": "b328b45209c44912b44055ba16c22bcf",
       "version_major": 2,
       "version_minor": 0
      },
      "text/plain": [
       "  0%|          | 0/10 [00:00<?, ?ba/s]"
      ]
     },
     "metadata": {},
     "output_type": "display_data"
    },
    {
     "data": {
      "application/vnd.jupyter.widget-view+json": {
       "model_id": "4b14b615f9d3404c83f2ad4f24062437",
       "version_major": 2,
       "version_minor": 0
      },
      "text/plain": [
       "  0%|          | 0/140 [00:00<?, ?ba/s]"
      ]
     },
     "metadata": {},
     "output_type": "display_data"
    }
   ],
   "source": [
    "# data_mix_train = data_mix.map(data_preproces, batched=True, batch_size=batch_size*3, fn_kwargs={'pretrained_tknzr': pretrained_tknzr})\n",
    "data_mix_train = data_mix.map(data_preprocess, batched=True, batch_size=batch_size*3)\n",
    "data_mix_train.set_format(type='torch', columns=transformation_cols)\n",
    "\n",
    "eval_data_mix = dataset[\"eval\"].filter(lambda x: x[\"lang_yy\"] in yy_subset)\n",
    "# eval_data_mix = eval_data_mix.map(data_preproces, batched=True, batch_size=batch_size, fn_kwargs={'pretrained_tknzr': pretrained_tknzr})\n",
    "eval_data_mix = eval_data_mix.map(data_preprocess, batched=True, batch_size=batch_size)\n",
    "eval_data_mix.set_format(type='torch', columns=transformation_cols)"
   ]
  },
  {
   "cell_type": "markdown",
   "id": "b5add4d9",
   "metadata": {},
   "source": [
    "### Load Model and Train on Mix Data "
   ]
  },
  {
   "cell_type": "code",
   "execution_count": 14,
   "id": "d851c999",
   "metadata": {},
   "outputs": [],
   "source": [
    "utils.logging.set_verbosity(25)\n",
    "model = AutoModelForSeq2SeqLM.from_pretrained(model_pretrained).to(device)\n",
    "model.resize_token_embeddings(len(pretrained_tknzr))\n",
    "\n",
    "collator = DataCollatorForSeq2Seq(pretrained_tknzr, model=model)\n",
    "\n",
    "args = Seq2SeqTrainingArguments(\n",
    "    output_dir = f\"NMT_Mix_en-{xxlang}-to-{yylang}\",\n",
    "    seed = 99,\n",
    "    evaluation_strategy = \"steps\",\n",
    "    eval_steps = 10_000,\n",
    "    log_level = 'warning',\n",
    "    disable_tqdm = False,\n",
    "    \n",
    "    save_total_limit=3,\n",
    "    save_strategy = 'steps', #\"epoch\",\n",
    "    save_steps = 10_000,\n",
    "    push_to_hub = False,\n",
    "    hub_token = TOKEN,\n",
    "    hub_model_id = f\"NMT_Mix_en-{xxlang}-to-{yylang}\",\n",
    "    hub_strategy = \"checkpoint\",\n",
    "    \n",
    "    learning_rate=1e-4,\n",
    "    per_device_train_batch_size=8,\n",
    "    per_device_eval_batch_size=8,\n",
    "    weight_decay=0.01,\n",
    "    warmup_steps = 10,\n",
    "    num_train_epochs=5,\n",
    "    predict_with_generate=True,\n",
    "    remove_unused_columns = True,\n",
    "    fp16=True,\n",
    ")\n",
    "\n",
    "trainer = Seq2SeqTrainer(\n",
    "    model,\n",
    "    args,\n",
    "    train_dataset=data_mix_train,\n",
    "    eval_dataset=eval_data_mix,\n",
    "    data_collator=collator,\n",
    "    tokenizer=pretrained_tknzr,\n",
    "    compute_metrics=compute_bleu,\n",
    ")"
   ]
  },
  {
   "cell_type": "code",
   "execution_count": 15,
   "id": "1e3305ec",
   "metadata": {},
   "outputs": [
    {
     "name": "stderr",
     "output_type": "stream",
     "text": [
      "/opt/conda/lib/python3.8/site-packages/transformers/trainer.py:1364: FutureWarning: Non-finite norm encountered in torch.nn.utils.clip_grad_norm_; continuing anyway. Note that the default behavior will change in a future release to error out if a non-finite total norm is encountered. At that point, setting error_if_nonfinite=false will be required to retain the old behavior.\n",
      "  nn.utils.clip_grad_norm_(\n"
     ]
    },
    {
     "data": {
      "text/html": [
       "\n",
       "    <div>\n",
       "      \n",
       "      <progress value='111945' max='111945' style='width:300px; height:20px; vertical-align: middle;'></progress>\n",
       "      [111945/111945 6:27:22, Epoch 5/5]\n",
       "    </div>\n",
       "    <table border=\"1\" class=\"dataframe\">\n",
       "  <thead>\n",
       "    <tr style=\"text-align: left;\">\n",
       "      <th>Step</th>\n",
       "      <th>Training Loss</th>\n",
       "      <th>Validation Loss</th>\n",
       "      <th>Bleu</th>\n",
       "      <th>Gen Len</th>\n",
       "    </tr>\n",
       "  </thead>\n",
       "  <tbody>\n",
       "    <tr>\n",
       "      <td>10000</td>\n",
       "      <td>1.250600</td>\n",
       "      <td>1.321967</td>\n",
       "      <td>9.938800</td>\n",
       "      <td>58.168300</td>\n",
       "    </tr>\n",
       "    <tr>\n",
       "      <td>20000</td>\n",
       "      <td>0.960500</td>\n",
       "      <td>1.021635</td>\n",
       "      <td>17.274000</td>\n",
       "      <td>45.566300</td>\n",
       "    </tr>\n",
       "    <tr>\n",
       "      <td>30000</td>\n",
       "      <td>0.811000</td>\n",
       "      <td>0.898940</td>\n",
       "      <td>21.253100</td>\n",
       "      <td>45.449900</td>\n",
       "    </tr>\n",
       "    <tr>\n",
       "      <td>40000</td>\n",
       "      <td>0.743900</td>\n",
       "      <td>0.822815</td>\n",
       "      <td>23.405600</td>\n",
       "      <td>43.559000</td>\n",
       "    </tr>\n",
       "    <tr>\n",
       "      <td>50000</td>\n",
       "      <td>0.655400</td>\n",
       "      <td>0.775739</td>\n",
       "      <td>25.612600</td>\n",
       "      <td>44.347600</td>\n",
       "    </tr>\n",
       "    <tr>\n",
       "      <td>60000</td>\n",
       "      <td>0.620200</td>\n",
       "      <td>0.739401</td>\n",
       "      <td>26.969800</td>\n",
       "      <td>44.643800</td>\n",
       "    </tr>\n",
       "    <tr>\n",
       "      <td>70000</td>\n",
       "      <td>0.547200</td>\n",
       "      <td>0.715244</td>\n",
       "      <td>27.851600</td>\n",
       "      <td>43.798400</td>\n",
       "    </tr>\n",
       "    <tr>\n",
       "      <td>80000</td>\n",
       "      <td>0.530600</td>\n",
       "      <td>0.693762</td>\n",
       "      <td>28.675900</td>\n",
       "      <td>44.132500</td>\n",
       "    </tr>\n",
       "    <tr>\n",
       "      <td>90000</td>\n",
       "      <td>0.479800</td>\n",
       "      <td>0.679192</td>\n",
       "      <td>29.552000</td>\n",
       "      <td>43.759900</td>\n",
       "    </tr>\n",
       "    <tr>\n",
       "      <td>100000</td>\n",
       "      <td>0.478000</td>\n",
       "      <td>0.667674</td>\n",
       "      <td>30.088100</td>\n",
       "      <td>44.366500</td>\n",
       "    </tr>\n",
       "    <tr>\n",
       "      <td>110000</td>\n",
       "      <td>0.469100</td>\n",
       "      <td>0.658994</td>\n",
       "      <td>30.423800</td>\n",
       "      <td>44.393400</td>\n",
       "    </tr>\n",
       "  </tbody>\n",
       "</table><p>"
      ],
      "text/plain": [
       "<IPython.core.display.HTML object>"
      ]
     },
     "metadata": {},
     "output_type": "display_data"
    },
    {
     "name": "stderr",
     "output_type": "stream",
     "text": [
      "/opt/conda/lib/python3.8/site-packages/transformers/trainer.py:1364: FutureWarning: Non-finite norm encountered in torch.nn.utils.clip_grad_norm_; continuing anyway. Note that the default behavior will change in a future release to error out if a non-finite total norm is encountered. At that point, setting error_if_nonfinite=false will be required to retain the old behavior.\n",
      "  nn.utils.clip_grad_norm_(\n",
      "/opt/conda/lib/python3.8/site-packages/transformers/trainer.py:1364: FutureWarning: Non-finite norm encountered in torch.nn.utils.clip_grad_norm_; continuing anyway. Note that the default behavior will change in a future release to error out if a non-finite total norm is encountered. At that point, setting error_if_nonfinite=false will be required to retain the old behavior.\n",
      "  nn.utils.clip_grad_norm_(\n",
      "/opt/conda/lib/python3.8/site-packages/transformers/trainer.py:1364: FutureWarning: Non-finite norm encountered in torch.nn.utils.clip_grad_norm_; continuing anyway. Note that the default behavior will change in a future release to error out if a non-finite total norm is encountered. At that point, setting error_if_nonfinite=false will be required to retain the old behavior.\n",
      "  nn.utils.clip_grad_norm_(\n",
      "/opt/conda/lib/python3.8/site-packages/transformers/trainer.py:1364: FutureWarning: Non-finite norm encountered in torch.nn.utils.clip_grad_norm_; continuing anyway. Note that the default behavior will change in a future release to error out if a non-finite total norm is encountered. At that point, setting error_if_nonfinite=false will be required to retain the old behavior.\n",
      "  nn.utils.clip_grad_norm_(\n",
      "/opt/conda/lib/python3.8/site-packages/transformers/trainer.py:1364: FutureWarning: Non-finite norm encountered in torch.nn.utils.clip_grad_norm_; continuing anyway. Note that the default behavior will change in a future release to error out if a non-finite total norm is encountered. At that point, setting error_if_nonfinite=false will be required to retain the old behavior.\n",
      "  nn.utils.clip_grad_norm_(\n",
      "/opt/conda/lib/python3.8/site-packages/transformers/trainer.py:1364: FutureWarning: Non-finite norm encountered in torch.nn.utils.clip_grad_norm_; continuing anyway. Note that the default behavior will change in a future release to error out if a non-finite total norm is encountered. At that point, setting error_if_nonfinite=false will be required to retain the old behavior.\n",
      "  nn.utils.clip_grad_norm_(\n",
      "/opt/conda/lib/python3.8/site-packages/transformers/trainer.py:1364: FutureWarning: Non-finite norm encountered in torch.nn.utils.clip_grad_norm_; continuing anyway. Note that the default behavior will change in a future release to error out if a non-finite total norm is encountered. At that point, setting error_if_nonfinite=false will be required to retain the old behavior.\n",
      "  nn.utils.clip_grad_norm_(\n",
      "/opt/conda/lib/python3.8/site-packages/transformers/trainer.py:1364: FutureWarning: Non-finite norm encountered in torch.nn.utils.clip_grad_norm_; continuing anyway. Note that the default behavior will change in a future release to error out if a non-finite total norm is encountered. At that point, setting error_if_nonfinite=false will be required to retain the old behavior.\n",
      "  nn.utils.clip_grad_norm_(\n",
      "/opt/conda/lib/python3.8/site-packages/transformers/trainer.py:1364: FutureWarning: Non-finite norm encountered in torch.nn.utils.clip_grad_norm_; continuing anyway. Note that the default behavior will change in a future release to error out if a non-finite total norm is encountered. At that point, setting error_if_nonfinite=false will be required to retain the old behavior.\n",
      "  nn.utils.clip_grad_norm_(\n",
      "/opt/conda/lib/python3.8/site-packages/transformers/trainer.py:1364: FutureWarning: Non-finite norm encountered in torch.nn.utils.clip_grad_norm_; continuing anyway. Note that the default behavior will change in a future release to error out if a non-finite total norm is encountered. At that point, setting error_if_nonfinite=false will be required to retain the old behavior.\n",
      "  nn.utils.clip_grad_norm_(\n",
      "/opt/conda/lib/python3.8/site-packages/transformers/trainer.py:1364: FutureWarning: Non-finite norm encountered in torch.nn.utils.clip_grad_norm_; continuing anyway. Note that the default behavior will change in a future release to error out if a non-finite total norm is encountered. At that point, setting error_if_nonfinite=false will be required to retain the old behavior.\n",
      "  nn.utils.clip_grad_norm_(\n"
     ]
    },
    {
     "data": {
      "text/plain": [
       "TrainOutput(global_step=111945, training_loss=0.7493315314590608, metrics={'train_runtime': 23243.1397, 'train_samples_per_second': 38.53, 'train_steps_per_second': 4.816, 'total_flos': 6.071570040619008e+16, 'train_loss': 0.7493315314590608, 'epoch': 5.0})"
      ]
     },
     "execution_count": 15,
     "metadata": {},
     "output_type": "execute_result"
    }
   ],
   "source": [
    "trainer.train()"
   ]
  },
  {
   "cell_type": "markdown",
   "id": "cb9e08e3",
   "metadata": {},
   "source": [
    "### Loding the model trained above"
   ]
  },
  {
   "cell_type": "code",
   "execution_count": 27,
   "id": "d0c8e011",
   "metadata": {},
   "outputs": [
    {
     "data": {
      "text/plain": [
       "Embedding(101462, 512, padding_idx=65000)"
      ]
     },
     "execution_count": 27,
     "metadata": {},
     "output_type": "execute_result"
    }
   ],
   "source": [
    "model = AutoModelForSeq2SeqLM.from_pretrained(f\"NMT_Mix_en-{xxlang}-to-{yylang}\")\n",
    "model.resize_token_embeddings(len(pretrained_tknzr))"
   ]
  },
  {
   "cell_type": "code",
   "execution_count": 29,
   "id": "b1e04e48",
   "metadata": {},
   "outputs": [
    {
     "data": {
      "application/vnd.jupyter.widget-view+json": {
       "model_id": "6a3fbd49d0c047659e96c922f9a5a710",
       "version_major": 2,
       "version_minor": 0
      },
      "text/plain": [
       "  0%|          | 0/180 [00:00<?, ?ba/s]"
      ]
     },
     "metadata": {},
     "output_type": "display_data"
    },
    {
     "data": {
      "application/vnd.jupyter.widget-view+json": {
       "model_id": "6ad70c394f4c45559a07f2386a5a5a4d",
       "version_major": 2,
       "version_minor": 0
      },
      "text/plain": [
       "  0%|          | 0/11 [00:00<?, ?ba/s]"
      ]
     },
     "metadata": {},
     "output_type": "display_data"
    },
    {
     "data": {
      "application/vnd.jupyter.widget-view+json": {
       "model_id": "7c5e64c2124d4d5c92551ceef22c2178",
       "version_major": 2,
       "version_minor": 0
      },
      "text/plain": [
       "  0%|          | 0/10 [00:00<?, ?ba/s]"
      ]
     },
     "metadata": {},
     "output_type": "display_data"
    },
    {
     "data": {
      "application/vnd.jupyter.widget-view+json": {
       "model_id": "e2d1de5d10134c96881e2e346a9fce3b",
       "version_major": 2,
       "version_minor": 0
      },
      "text/plain": [
       "  0%|          | 0/94 [00:00<?, ?ba/s]"
      ]
     },
     "metadata": {},
     "output_type": "display_data"
    },
    {
     "data": {
      "application/vnd.jupyter.widget-view+json": {
       "model_id": "d7ced8b3666845ba8ab16599712eafb9",
       "version_major": 2,
       "version_minor": 0
      },
      "text/plain": [
       "  0%|          | 0/6 [00:00<?, ?ba/s]"
      ]
     },
     "metadata": {},
     "output_type": "display_data"
    },
    {
     "data": {
      "application/vnd.jupyter.widget-view+json": {
       "model_id": "045aba8a3f9147b6abcc9cfda16db398",
       "version_major": 2,
       "version_minor": 0
      },
      "text/plain": [
       "  0%|          | 0/6 [00:00<?, ?ba/s]"
      ]
     },
     "metadata": {},
     "output_type": "display_data"
    }
   ],
   "source": [
    "target_lang = 'ms'# == yylang\n",
    "\n",
    "data_subset = dataset.filter(lambda x: x[\"lang_yy\"] == target_lang)\n",
    "data_subset = data_subset.map(data_preprocess, batched=True, batch_size=batch_size*3)\n",
    "data_subset.set_format(type='torch', columns=transformation_cols)"
   ]
  },
  {
   "cell_type": "markdown",
   "id": "c8e99ead",
   "metadata": {},
   "source": [
    "### Load Model and Train on Target Language"
   ]
  },
  {
   "cell_type": "code",
   "execution_count": 32,
   "id": "4f18039f",
   "metadata": {},
   "outputs": [],
   "source": [
    "collator = DataCollatorForSeq2Seq(pretrained_tknzr, model=model)\n",
    "\n",
    "args = Seq2SeqTrainingArguments(\n",
    "    output_dir = f\"NMT_Final_{target_lang}\",\n",
    "    seed = 99,\n",
    "    evaluation_strategy = \"epoch\",\n",
    "    log_level = 'warning',\n",
    "    disable_tqdm = False,\n",
    "    learning_rate=1e-4,\n",
    "    per_device_train_batch_size=8,\n",
    "    per_device_eval_batch_size=8,\n",
    "    weight_decay=0.01,\n",
    "    warmup_steps = 5,\n",
    "    num_train_epochs=5,\n",
    "    predict_with_generate=True,\n",
    "    remove_unused_columns = True,\n",
    "    fp16=True,\n",
    "    save_total_limit=3,\n",
    "    save_strategy = \"epoch\",\n",
    ")\n",
    "\n",
    "trainer = Seq2SeqTrainer(\n",
    "    model,\n",
    "    args,\n",
    "    train_dataset=data_subset[\"train\"],\n",
    "    eval_dataset=data_subset[\"eval\"],\n",
    "    data_collator=collator,\n",
    "    tokenizer= pretrained_tknzr,\n",
    "    compute_metrics= compute_bleu\n",
    ")"
   ]
  },
  {
   "cell_type": "code",
   "execution_count": 33,
   "id": "a833b4eb",
   "metadata": {},
   "outputs": [
    {
     "data": {
      "text/html": [
       "\n",
       "    <div>\n",
       "      \n",
       "      <progress value='11220' max='11220' style='width:300px; height:20px; vertical-align: middle;'></progress>\n",
       "      [11220/11220 29:56, Epoch 5/5]\n",
       "    </div>\n",
       "    <table border=\"1\" class=\"dataframe\">\n",
       "  <thead>\n",
       "    <tr style=\"text-align: left;\">\n",
       "      <th>Epoch</th>\n",
       "      <th>Training Loss</th>\n",
       "      <th>Validation Loss</th>\n",
       "      <th>Bleu</th>\n",
       "      <th>Gen Len</th>\n",
       "    </tr>\n",
       "  </thead>\n",
       "  <tbody>\n",
       "    <tr>\n",
       "      <td>1</td>\n",
       "      <td>0.329200</td>\n",
       "      <td>0.426728</td>\n",
       "      <td>43.845800</td>\n",
       "      <td>37.344700</td>\n",
       "    </tr>\n",
       "    <tr>\n",
       "      <td>2</td>\n",
       "      <td>0.248400</td>\n",
       "      <td>0.419369</td>\n",
       "      <td>44.882200</td>\n",
       "      <td>37.301500</td>\n",
       "    </tr>\n",
       "    <tr>\n",
       "      <td>3</td>\n",
       "      <td>0.181200</td>\n",
       "      <td>0.414721</td>\n",
       "      <td>45.725700</td>\n",
       "      <td>37.269300</td>\n",
       "    </tr>\n",
       "    <tr>\n",
       "      <td>4</td>\n",
       "      <td>0.136500</td>\n",
       "      <td>0.419384</td>\n",
       "      <td>46.302000</td>\n",
       "      <td>37.511600</td>\n",
       "    </tr>\n",
       "    <tr>\n",
       "      <td>5</td>\n",
       "      <td>0.104600</td>\n",
       "      <td>0.421675</td>\n",
       "      <td>46.766200</td>\n",
       "      <td>37.532700</td>\n",
       "    </tr>\n",
       "  </tbody>\n",
       "</table><p>"
      ],
      "text/plain": [
       "<IPython.core.display.HTML object>"
      ]
     },
     "metadata": {},
     "output_type": "display_data"
    },
    {
     "name": "stderr",
     "output_type": "stream",
     "text": [
      "/opt/conda/lib/python3.8/site-packages/transformers/trainer.py:1364: FutureWarning: Non-finite norm encountered in torch.nn.utils.clip_grad_norm_; continuing anyway. Note that the default behavior will change in a future release to error out if a non-finite total norm is encountered. At that point, setting error_if_nonfinite=false will be required to retain the old behavior.\n",
      "  nn.utils.clip_grad_norm_(\n",
      "/opt/conda/lib/python3.8/site-packages/transformers/trainer.py:1364: FutureWarning: Non-finite norm encountered in torch.nn.utils.clip_grad_norm_; continuing anyway. Note that the default behavior will change in a future release to error out if a non-finite total norm is encountered. At that point, setting error_if_nonfinite=false will be required to retain the old behavior.\n",
      "  nn.utils.clip_grad_norm_(\n"
     ]
    },
    {
     "data": {
      "text/plain": [
       "TrainOutput(global_step=11220, training_loss=0.19844589114401642, metrics={'train_runtime': 1796.476, 'train_samples_per_second': 49.956, 'train_steps_per_second': 6.246, 'total_flos': 6084417520926720.0, 'train_loss': 0.19844589114401642, 'epoch': 5.0})"
      ]
     },
     "execution_count": 33,
     "metadata": {},
     "output_type": "execute_result"
    }
   ],
   "source": [
    "trainer.train()"
   ]
  },
  {
   "cell_type": "code",
   "execution_count": 34,
   "id": "eed5eff3",
   "metadata": {},
   "outputs": [
    {
     "data": {
      "text/html": [
       "\n",
       "    <div>\n",
       "      \n",
       "      <progress value='128' max='128' style='width:300px; height:20px; vertical-align: middle;'></progress>\n",
       "      [128/128 01:13]\n",
       "    </div>\n",
       "    "
      ],
      "text/plain": [
       "<IPython.core.display.HTML object>"
      ]
     },
     "metadata": {},
     "output_type": "display_data"
    },
    {
     "data": {
      "text/plain": [
       "PredictionOutput(predictions=array([[65000, 74604, 79074, ..., 65000, 65000, 65000],\n",
       "       [65000, 66619,     8, ..., 65000, 65000, 65000],\n",
       "       [65000, 74604, 80960, ..., 65000, 65000, 65000],\n",
       "       ...,\n",
       "       [65000, 70610,    13, ..., 65000, 65000, 65000],\n",
       "       [65000, 79469, 79178, ..., 65000, 65000, 65000],\n",
       "       [65000, 79480,    13, ..., 65000, 65000, 65000]]), label_ids=array([[80584, 70261, 79475, ..., 65000, 65000, 65000],\n",
       "       [66619,     8, 10139, ..., 65000, 65000, 65000],\n",
       "       [ 9280, 80347,     8, ..., 65000, 65000, 65000],\n",
       "       ...,\n",
       "       [79402,     8,  3005, ..., 65000, 65000, 65000],\n",
       "       [79469, 79157, 73645, ..., 65000, 65000, 65000],\n",
       "       [79480, 70161, 79433, ..., 65000, 65000, 65000]]), metrics={'eval_loss': 0.4476158618927002, 'eval_bleu': 45.1078, 'eval_gen_len': 38.0305, 'eval_runtime': 78.84, 'eval_samples_per_second': 12.9, 'eval_steps_per_second': 1.624})"
      ]
     },
     "execution_count": 34,
     "metadata": {},
     "output_type": "execute_result"
    }
   ],
   "source": [
    "trainer.predict(data_subset[\"test\"])"
   ]
  },
  {
   "cell_type": "markdown",
   "id": "5a1e278e",
   "metadata": {},
   "source": [
    "### Analysis"
   ]
  },
  {
   "cell_type": "code",
   "execution_count": 21,
   "id": "1b0274f2",
   "metadata": {},
   "outputs": [
    {
     "data": {
      "image/png": "[encoded data removed]",
      "text/plain": [
       "<Figure size 475.625x360 with 1 Axes>"
      ]
     },
     "metadata": {
      "needs_background": "light"
     },
     "output_type": "display_data"
    },
    {
     "data": {
      "image/png": "[encoded data removed]",
      "text/plain": [
       "<Figure size 475.625x360 with 1 Axes>"
      ]
     },
     "metadata": {
      "needs_background": "light"
     },
     "output_type": "display_data"
    }
   ],
   "source": [
    "bleu_df = pd.DataFrame(data={'BLEU Scores': ['Baseline BLEU','Fine-tuned BlEU']*7, \\\n",
    "    'Languages': ['Filipino', 'Filipino', 'Hindi', 'Hindi', 'Indonesian', \\\n",
    "        'Indonesian', 'Malay', 'Malay', 'Burmese', 'Burmese', 'Thai', 'Thai',\\\n",
    "            'Vietnamese', 'Vietnamese'], \\\n",
    "                'BLEU Score Zh': [24.45, 31.81, 30.49, 32.43, 26.41, 29.47,\\\n",
    "                    31.65, 33.35, 19.82, 26.81, 20.42, 23.91, 32.14, 36.91],\\\n",
    "                        'BLEU Score Ja': [17.62, 28.37, 17.96, 29.63, 26.33, 29.54,\\\n",
    "                            31.74, 39.88, 4.84, 25.11, 17.21, 21.42, 25.87, 33.45]\\\n",
    "                                })\n",
    "\n",
    "\n",
    "sns.catplot(x = 'Languages', y='BLEU Score Zh', hue = 'BLEU Scores',data=bleu_df, kind='bar')\n",
    "sns.catplot(x = 'Languages', y='BLEU Score Ja', hue = 'BLEU Scores',data=bleu_df, kind='bar')\n",
    "\n",
    "plt.show()"
   ]
  },
  {
   "cell_type": "markdown",
   "id": "4469921d",
   "metadata": {},
   "source": [
    "As helper languages, Chinese and Japanese, the BLEU ratings for each configuration are displayed above. For the mix fine tune with pure tuning setups, regardless of the external parallel corpus for en-xx, the three-stage fine-tuned model, Pure-fine tuning with Chinese as a helper language achieved the highest BLEU scores for all seven target languages. Results for Baseline techniques using Japanese as the helper language demonstrate that NMT systems trained on 18k parallel phrases can only get a subpar outcome for the target language \"My\" while the other target languages achieve reasonably high BLEU scores (20).  No matter how it was applied, the combination of mixed pre-training and pure fine-tuning, as well as the addition of a sizeable external en-xx parallel corpus, consistently and dramatically improved the translation quality for each of the seven target languages. For all of the examples, pure fine-tuning using Chinese and Japanese as auxiliary languages produced the greatest results. The BLEU increased from 1.94 (Hi) to 6.99 (Ms) points when using the En-Zh corpus, and from 3.17 (Id) to 20.27 (My) points when using the En-Ja corpus.\n"
   ]
  },
  {
   "cell_type": "markdown",
   "id": "d6abb62f",
   "metadata": {},
   "source": [
    "With improvements over the best scores of 1.94 (Hi) to 6.99 (Ms) BLEU points with the En-Zh corpus, the three-stage fine-tuned model using Chinese as a helper language consistently beat the En-Ja pure fine-tuned model. These models don't add any extra source sentences compared to baseline, as was previously mentioned. Therefore, we can claim with certainty that the benefit is the result of multilingualism. When all En-yy language pairings were utilised for the three-stage fine-tuning model, the En-Ja corpus likewise showed a significant superiority gain (for Hi, Ms, My, and Vi) over the En-Zh corpus. When all of the target languages were used, however, the En-Zh corpus frequently helped to achieve considerably better results than the En-Ja corpus (for Fi and Id). The size of the corpus, the similarity or overlap between the interest and helping target languages, and the proximity of the domain are three potential contributing variables."
   ]
  },
  {
   "cell_type": "markdown",
   "id": "c1bf5c96",
   "metadata": {},
   "source": [
    "En-Ja corpus performed 2.48 BLEU points better than En-Zh corpus when used as helping data for En-Ja translation.\n",
    "The significant BLEU gap could be explained by the fact that the En-Ja corpus is more than twice as big as the En-Zh corpus. Even if it is conceivable that the Chinese and Japanese languages' vocabulary overlaps to aid in En-Ja translation, other languages also do better even when there isn't. We believe that translation into a low-resource target language may benefit from being the target side of the supporting corpus, but multistage fine-tuning does not require this overlap and instead performs best when it makes use of multilingualism during stage-wise tuning."
   ]
  }
 ],
 "metadata": {
  "kernelspec": {
   "display_name": "Python 3 (ipykernel)",
   "language": "python",
   "name": "python3"
  },
  "language_info": {
   "codemirror_mode": {
    "name": "ipython",
    "version": 3
   },
   "file_extension": ".py",
   "mimetype": "text/x-python",
   "name": "python",
   "nbconvert_exporter": "python",
   "pygments_lexer": "ipython3",
   "version": "3.8.10"
  }
 },
 "nbformat": 4,
 "nbformat_minor": 5
}
